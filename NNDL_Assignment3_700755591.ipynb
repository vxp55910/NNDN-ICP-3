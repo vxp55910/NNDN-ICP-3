{
 "cells": [
  {
   "cell_type": "code",
   "execution_count": 5,
   "id": "c5731036",
   "metadata": {},
   "outputs": [
    {
     "name": "stdout",
     "output_type": "stream",
     "text": [
      "73333.33333333333\n",
      "73333.33333333333\n",
      "73333.33333333333\n"
     ]
    }
   ],
   "source": [
    "# 1. Create a class Employee and then do the following\n",
    "# • Create a data member to count the number of Employees\n",
    "# • Create a constructor to initialize name, family, salary, department\n",
    "# • Create a function to average salary\n",
    "# • Create a Fulltime Employee class and it should inherit the properties of Employee class\n",
    "# • Create the instances of Fulltime Employee class and Employee class and call their member functions.\n",
    "#Employee class\n",
    "class Emp:\n",
    "    count=0 #contains count of employees\n",
    "    emps=[] # list of employees \n",
    "    def __init__(self,name,family,salary,dept):\n",
    "        self.name=name\n",
    "        self.family=family\n",
    "        self.salary=salary\n",
    "        self.dept=dept\n",
    "        Emp.count=Emp.count+1 # count is incremented each time the employee instance is called \n",
    "        Emp.emps.append(self) # here we are adding the employee details to list \n",
    "        \n",
    "\n",
    "        # method to calculate the average_salary of the employees\n",
    "    def average_salary(self):\n",
    "        return sum(emp.salary for emp in Emp.emps) / Emp.count\n",
    "    \n",
    "#FulltimeEmployee class inheriting the Employee class    \n",
    "class Fulltime_Emp(Emp):\n",
    "        pass\n",
    "    \n",
    "\n",
    "#creating instances for above classes \n",
    "emp1=Emp(\"harry potter\",\"potter\",80000,\"IT\")\n",
    "emp2=Emp(\"ron weasly\",\"weasly\",70000,\"Marketing\")\n",
    "fulltime_emp1 = Fulltime_Emp(\"albus james\", \"james\", 70000, \"Developer\")\n",
    "\n",
    "\n",
    "#Accessing the classes using instances \n",
    "print(emp1.average_salary())\n",
    "print(emp2.average_salary())\n",
    "print(fulltime_emp1.average_salary())"
   ]
  },
  {
   "cell_type": "code",
   "execution_count": 1,
   "id": "3ac14945",
   "metadata": {},
   "outputs": [
    {
     "name": "stdout",
     "output_type": "stream",
     "text": [
      "[[ 3.36246389  2.11978279 12.82244299  1.89085562 15.99082019]\n",
      " [10.93748358  3.67725892 11.49414652  3.94509201  8.49996038]\n",
      " [ 8.49440824  7.83448265  4.47154913 13.98780569  6.83193052]\n",
      " [ 2.53937938 13.28297113  3.31657502  3.64575605  8.85708616]]\n"
     ]
    },
    {
     "data": {
      "text/plain": [
       "array([[ 3.36246389,  2.11978279, 12.82244299,  1.89085562,  0.        ],\n",
       "       [10.93748358,  3.67725892,  0.        ,  3.94509201,  8.49996038],\n",
       "       [ 8.49440824,  7.83448265,  4.47154913,  0.        ,  6.83193052],\n",
       "       [ 2.53937938,  0.        ,  3.31657502,  3.64575605,  8.85708616]])"
      ]
     },
     "execution_count": 1,
     "metadata": {},
     "output_type": "execute_result"
    }
   ],
   "source": [
    "import numpy as np #importing the numpy module\n",
    "\n",
    "sampl=np.random.uniform(low=1,high=20,size=20) #generating the random float values between 1 to 20\n",
    "reshape_arr=sampl.reshape((4,5)) #reshaping the vector to 4*5 dimension\n",
    "print(reshape_arr)\n",
    "#replacing the max values with 0s in each row \n",
    "np.where(reshape_arr== np.max(reshape_arr, axis=1, keepdims=True), 0, reshape_arr)"
   ]
  },
  {
   "cell_type": "code",
   "execution_count": null,
   "id": "3b402746",
   "metadata": {},
   "outputs": [],
   "source": []
  },
  {
   "cell_type": "code",
   "execution_count": null,
   "id": "9fb25939",
   "metadata": {},
   "outputs": [],
   "source": []
  }
 ],
 "metadata": {
  "kernelspec": {
   "display_name": "Python 3 (ipykernel)",
   "language": "python",
   "name": "python3"
  },
  "language_info": {
   "codemirror_mode": {
    "name": "ipython",
    "version": 3
   },
   "file_extension": ".py",
   "mimetype": "text/x-python",
   "name": "python",
   "nbconvert_exporter": "python",
   "pygments_lexer": "ipython3",
   "version": "3.9.6"
  }
 },
 "nbformat": 4,
 "nbformat_minor": 5
}
