{
 "cells": [
  {
   "cell_type": "code",
   "execution_count": 1,
   "id": "aa0d3eb9",
   "metadata": {},
   "outputs": [],
   "source": [
    "def Full_name(first_name=\"first name\",last_name='last name'):# Here i have created Full name method by passing arguments first name and last name \n",
    "    return first_name+' '+last_name # Here i have conacatinted both first name and last name which i have returned it as a string to the function"
   ]
  },
  {
   "cell_type": "code",
   "execution_count": 2,
   "id": "bd639e63",
   "metadata": {},
   "outputs": [
    {
     "name": "stdout",
     "output_type": "stream",
     "text": [
      "Eneter your first name:/nVenkatramanaporeddy\n",
      "Enter your last name:/nPoreddyVenkatramanareddy\n",
      "Poreddy Venkat ramana reddy\n"
     ]
    }
   ],
   "source": [
    "first_name=input(\"Enter your first name:/n\")# Used input function to accept a string from the user and stored in a variable\n",
    "last_name=input(\"Enter your last name:/n\")\n",
    "full_name=Full_name(first_name,last_name)#passed variables to the function\n",
    "print(full_name)"
   ]
  },
  {
   "cell_type": "code",
   "execution_count": 12,
   "id": "f02eadf1",
   "metadata": {},
   "outputs": [
    {
     "data": {
      "text/plain": [
       "'Go vnn'"
      ]
     },
     "execution_count": 12,
     "metadata": {},
     "output_type": "execute_result"
    }
   ],
   "source": [
    "def string_alternative(string):\n",
    "    o=''\n",
    "    for i in range(0,len(string)):#Here i am iterating the string from 0 to the lenght of the string \n",
    "        if(i%2==0):#Here i am taking each character and doing modulus with and equating to 0 so that we can get the all the alternate characters in the string \n",
    "            o=o+string[i]# Here i am adding empty string to the list of characters according the index so that we can return the string and then print it.\n",
    "    return o\n",
    "string_alternative('Good evening')#called the function by passing \"Good Evening\" as a string."
   ]
  },
  {
   "cell_type": "code",
   "execution_count": 32,
   "id": "92146fd1",
   "metadata": {
    "scrolled": true
   },
   "outputs": [
    {
     "name": "stdout",
     "output_type": "stream",
     "text": [
      "Python:1\n",
      "Course:2\n",
      "Deep:1\n",
      "Learning:1\n",
      "Course:2\n",
      "\n"
     ]
    }
   ],
   "source": [
    "with open('input_file.txt','r') as ipf:#created a file named input_file and used read and split functions to read the file and split the words into several words as per the question\n",
    "    line=ipf.read()\n",
    "    word=line.split()\n",
    "    with open('output_file.txt','w') as opf:\n",
    "        for i in word: # Here i have iterated through word variable where the split of words are returned \n",
    "            opf.write(i+':'+str(word.count(i))+'\\n')      \n",
    "opf=open('output_file.txt','r')\n",
    "print(opf.read())"
   ]
  },
  {
   "cell_type": "code",
   "execution_count": null,
   "id": "35970349",
   "metadata": {},
   "outputs": [],
   "source": [
    "# Nested interactive loop\n",
    "heights=[]# Empty List\n",
    "\n",
    "while True:\n",
    "    x=float(input())\n",
    "    if(x<=0):\n",
    "        break\n",
    "    heights.append(x)#this is in inches"
   ]
  },
  {
   "cell_type": "code",
   "execution_count": 48,
   "id": "f1dc4867",
   "metadata": {},
   "outputs": [
    {
     "name": "stdout",
     "output_type": "stream",
     "text": [
      "[119.38, 60.96, 172.7962, 177.8762]\n"
     ]
    }
   ],
   "source": [
    "output=[x*2.54 for x in heights]\n",
    "print(output)#this is in cm"
   ]
  },
  {
   "cell_type": "code",
   "execution_count": null,
   "id": "de88da90",
   "metadata": {},
   "outputs": [],
   "source": []
  }
 ],
 "metadata": {
  "kernelspec": {
   "display_name": "Python 3 (ipykernel)",
   "language": "python",
   "name": "python3"
  },
  "language_info": {
   "codemirror_mode": {
    "name": "ipython",
    "version": 3
   },
   "file_extension": ".py",
   "mimetype": "text/x-python",
   "name": "python",
   "nbconvert_exporter": "python",
   "pygments_lexer": "ipython3",
   "version": "3.9.12"
  }
 },
 "nbformat": 4,
 "nbformat_minor": 5
}

